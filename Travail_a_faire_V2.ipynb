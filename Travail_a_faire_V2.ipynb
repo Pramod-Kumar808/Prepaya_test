{
 "cells": [
  {
   "cell_type": "markdown",
   "source": [
    "## TP entretien"
   ],
   "metadata": {}
  },
  {
   "cell_type": "markdown",
   "source": [
    "But du TP: \n",
    "\n",
    "L'idée est de générer de maniere automatique des questionnaires de type fonction publique.\n",
    "Une question est a choix multiples selon des themes plus ou moins compliqués.  \n",
    "Elle se compose d'un ennoncé et de 4 réponses dont une seule est correcte. \n",
    "\n",
    "Voici un exemple de question"
   ],
   "metadata": {}
  },
  {
   "cell_type": "markdown",
   "source": [
    "Un pianiste professionnel joue en moyenne 500 notes par minute. Il joue 6 heures par jour en\n",
    "moyenne et 350 jours par an. Sur cette base, après 40 ans de profession, combien de notes\n",
    "environ a-t-il joué ?\n",
    "  1. 2,5 millions\n",
    "  2. 25 millions\n",
    "  3. 250 millions\n",
    "  4. 2,5 milliards"
   ],
   "metadata": {}
  },
  {
   "cell_type": "markdown",
   "source": [
    "Ici, il s'agit d'une seule instance d'une question, dont le but est de voir si l'eleve sait multiplier correctement.\n",
    "\n",
    "Le calcul a faire est \"500*60*6*350*40\", ce qui donne 2.5 milliards\n",
    "\n",
    "On voit que toutes les réponses sont cohérentes, c'est l'ordre de grandeur qui va changer, tous les ordres de grandeurs sont proches les uns des autres. Et les chiffres sont ronds. \n",
    "\n",
    "On veut donc faire une fonction \"Question_pianiste\" qui permettrait de générer des dizaines (centaines ?) de question de ce genre de maniere aleatoire. La premiere réponse sera arbitrairement la bonne, les autres seront fausses.\n",
    "\n",
    "- Toutes les réponses devront etre différentes  \n",
    "- Il faut que toutes les réponses soient plausibles\n",
    "- Il faut également que les réponses soient entieres (pas de 2.6575 milliards)\n",
    "\n"
   ],
   "metadata": {}
  },
  {
   "cell_type": "markdown",
   "source": [
    "J'ai donné un example tres simple de questions que j'ai implémenté (pas forcément parfait)"
   ],
   "metadata": {}
  },
  {
   "cell_type": "code",
   "execution_count": 1,
   "source": [
    "import numpy as np\r\n",
    "import random \r\n",
    "from fractions import Fraction"
   ],
   "outputs": [],
   "metadata": {}
  },
  {
   "cell_type": "code",
   "execution_count": 2,
   "source": [
    "def Question_calcul_puissances(): \r\n",
    "    nombre = random.choice((2, 3))\r\n",
    "    liste_puissance = [-3, -4, -5, -6]\r\n",
    "    puissance = random.choice(liste_puissance)\r\n",
    "\r\n",
    "    reponse_juste = Fraction(1, nombre ** (-puissance))\r\n",
    "    reponse_fausse1 = -(nombre ** (-puissance))\r\n",
    "    reponse_fausse2 = -(nombre * (-puissance))\r\n",
    "    reponse_fausse3 = Fraction(1, nombre * (-puissance))\r\n",
    "    question = \"\"\"{} ** {} est égal à:\"\"\".format(nombre, puissance)\r\n",
    "\r\n",
    "    return (question, reponse_juste, reponse_fausse1, reponse_fausse2, reponse_fausse3)"
   ],
   "outputs": [],
   "metadata": {}
  },
  {
   "cell_type": "code",
   "execution_count": 3,
   "source": [
    "question, rep0, rep1, rep2, rep3 = Question_calcul_puissances()\r\n",
    "print(question)\r\n",
    "print(rep0)\r\n",
    "print(rep1)\r\n",
    "print(rep2)\r\n",
    "print(rep3)"
   ],
   "outputs": [
    {
     "output_type": "stream",
     "name": "stdout",
     "text": [
      "2 ** -5 est égal à:\n",
      "1/32\n",
      "-32\n",
      "-10\n",
      "1/10\n"
     ]
    }
   ],
   "metadata": {}
  },
  {
   "cell_type": "markdown",
   "source": [
    "Voici la liste des questions a générer"
   ],
   "metadata": {}
  },
  {
   "cell_type": "markdown",
   "source": [
    "Q 29\r\n",
    "\r\n",
    "Une carte routière est à l’échelle 1/250 000. Quelle distance réelle représentent 4 cm sur cette\r\n",
    "carte ?\r\n",
    "    1. 1 km\r\n",
    "    2. 10 km\r\n",
    "    3. 25 km\r\n",
    "    4. 100 km"
   ],
   "metadata": {}
  },
  {
   "cell_type": "markdown",
   "source": [
    "Q 30\r\n",
    "Un triangle a trois angles. Un petit, un moyen qui est le double du petit et un grand qui est le\r\n",
    "triple du petit. Il s’agit donc :\r\n",
    "    1. 141\r\n",
    "    2. 153\r\n",
    "    3. 162\r\n",
    "    4. 178"
   ],
   "metadata": {}
  },
  {
   "cell_type": "markdown",
   "source": [
    "Q 31\r\n",
    "Quelle est la solution de l'équation suivante ?\r\n",
    "(4x+2)/(x-1) = 3(x*x-1)/((x-1)^2))\r\n",
    "\r\n",
    "    1. x = -3\r\n",
    "    2. x = -1\r\n",
    "    3. x = 1\r\n",
    "    4. x = 3"
   ],
   "metadata": {}
  },
  {
   "cell_type": "markdown",
   "source": [
    "Q 32\r\n",
    "La moyenne d'un élève sur 4 épreuves est de 13/20. \r\n",
    "Quelle doit être sa note à la 5ème épreuve pour obtenir une moyenne de 14/20 \r\n",
    "    1. 15\r\n",
    "    2. 16\r\n",
    "    3. 17\r\n",
    "    4. 18"
   ],
   "metadata": {}
  },
  {
   "cell_type": "markdown",
   "source": [
    "Q 33\r\n",
    "Trois personnes achètent ensemble un cheval de course. Le premier met le tiers du prix, le\r\n",
    "second met 45 % de la somme et le dernier met 13 000 €. Combien coûte ce cheval ?\r\n",
    "    1. 50 000 €\r\n",
    "    2. 60 000 €\r\n",
    "    3. 70 000 €\r\n",
    "    4. 80 000 €"
   ],
   "metadata": {}
  },
  {
   "cell_type": "markdown",
   "source": [
    "Q 34\r\n",
    "Trouvez la figure qui possède la plus grande surface parmi les quatre propositions suivantes :\r\n",
    "    1. Un cercle de rayon r = 2 cm avec Pi = 3,14\r\n",
    "    2. Un triangle rectangle dont le côté opposé mesure 6 cm et le côté adjacent mesure 4 cm\r\n",
    "    3. Un carré de côté A = 4,5 cm\r\n",
    "    4. Un rectangle de grand côté L = 6 cm et de petit côté l = 3 cm\r\n"
   ],
   "metadata": {}
  },
  {
   "cell_type": "markdown",
   "source": [
    "Q 35\r\n",
    "Supposons un nouveau système de numérotation dans lequel 1 heure ferait 70 minutes et\r\n",
    "1 minute ferait 40 secondes. À quelle durée en heure / minutes / secondes correspondrait une\r\n",
    "durée de 4 500 secondes ?\r\n",
    "\r\n",
    "    1. 1 h 40 min 40 s\r\n",
    "    2. 1 h 41 min 10 s\r\n",
    "    3. 1 h 41 min 50 s\r\n",
    "    4. 1 h 42 min 20 "
   ],
   "metadata": {}
  },
  {
   "cell_type": "markdown",
   "source": [
    "#### A FAIRE"
   ],
   "metadata": {}
  },
  {
   "cell_type": "code",
   "execution_count": 4,
   "source": [
    "from random import choice\r\n",
    "from fractions import Fraction \r\n",
    "def question_29():\r\n",
    "    scale_list = [150000,200000,250000,300000,350000]\r\n",
    "    demoninator = choice(scale_list)\r\n",
    "    km_scale = Fraction(1, demoninator)\r\n",
    "    # print(km_scale)\r\n",
    "    cm_value = choice(range(2,10))\r\n",
    "    rep_ture = str(round((cm_value/100000)/km_scale)) + \" km\"\r\n",
    "    rep_false = str(demoninator/10000) + \" km\"\r\n",
    "    rep_false2 = str(round((cm_value/10000)/km_scale) / 10) + \" km\"\r\n",
    "    rep_false3 = str(round((cm_value/10000)/km_scale) + 10) + \" km\"\r\n",
    "    question = \"\"\"Une carte routière est à l’échelle {}. Quelle distance réelle représentent {} cm sur cette carte ?\"\"\". format(km_scale, cm_value)\r\n",
    "    return (question, rep_ture, rep_false, rep_false2, rep_false3)"
   ],
   "outputs": [],
   "metadata": {}
  },
  {
   "cell_type": "code",
   "execution_count": 5,
   "source": [
    "question, rep_true, rep_false, rep_false2, rep_false3 = question_29()\r\n",
    "print(question)\r\n",
    "print(\"\\n\")\r\n",
    "print(\"{}.  {}\".format(1, rep_true))\r\n",
    "print(\"{}.  {}\".format(2, rep_false))\r\n",
    "print(\"{}.  {}\".format(3, rep_false2))\r\n",
    "print(\"{}.  {}\".format(4, rep_false3))"
   ],
   "outputs": [
    {
     "output_type": "stream",
     "name": "stdout",
     "text": [
      "Une carte routière est à l’échelle 1/250000. Quelle distance réelle représentent 6 cm sur cette carte ?\n",
      "\n",
      "\n",
      "1.  15 km\n",
      "2.  25.0 km\n",
      "3.  15.0 km\n",
      "4.  160 km\n"
     ]
    }
   ],
   "metadata": {}
  },
  {
   "cell_type": "code",
   "execution_count": 65,
   "source": [
    "def question_30():\r\n",
    "    d = {\r\n",
    "        \"double\" : 2,\r\n",
    "        \"triple\" : 3,\r\n",
    "        \"quadruple\" : 4,\r\n",
    "        \"quintuple\" : 5,\r\n",
    "        \"sextuple\" : 6\r\n",
    "    }\r\n",
    "    angle_seq = [\"double\", \"triple\", \"quadruple\", \"quintuple\", \"sextuple\"]\r\n",
    "    moyen_angle = choice(angle_seq)\r\n",
    "    grand_angle = choice(angle_seq)\r\n",
    "    moyen_res = [val for key, val in d.items() if moyen_angle in key]\r\n",
    "    grand_res = [val for key, val in d.items() if grand_angle in key]\r\n",
    "    angle_question_list = [\"Le petit angle est ?\", \"L'angle moyen est ?\", \"Le grand angle est ?\"]\r\n",
    "    end_question = choice(angle_question_list)\r\n",
    "    # print(end_question, moyen_res, grand_res)\r\n",
    "    # print(type(moyen_res))\r\n",
    "    unknown_angle = (180/(int(moyen_res[0]) + int(grand_res[0]) + 1))\r\n",
    "    # print(unknown_angle)\r\n",
    "    if end_question == angle_question_list[0]:\r\n",
    "        true_value = round(unknown_angle,2)\r\n",
    "        # print(true_value)\r\n",
    "        res_true_30 = str(true_value) + \" angle\"\r\n",
    "        res_false_30 = str(round(true_value + 10,2)) + \" angle\"\r\n",
    "        res_false1_30 = str(round(true_value / 10,2)) + \" angle\"\r\n",
    "        res_false2_30 = str(round(unknown_angle + 10,2)) + \" angle\"\r\n",
    "    elif end_question == angle_question_list[1]:\r\n",
    "        true_value = round(int(moyen_res[0]) * unknown_angle,2)\r\n",
    "        # print(true_value)\r\n",
    "        res_true_30 = str(true_value) + \" angle\"\r\n",
    "        res_false_30 = str(round(true_value + 10,2)) + \" angle\"\r\n",
    "        res_false1_30 = str(round(true_value / 10,2)) + \" angle\"\r\n",
    "        res_false2_30 = str(round(unknown_angle + 10,2)) + \" angle\"\r\n",
    "    elif end_question == angle_question_list[2]:\r\n",
    "        true_value = round(int(grand_res[0]) * unknown_angle,2)\r\n",
    "        # print(true_value)\r\n",
    "        res_true_30 = str(true_value)+ \" angle\"\r\n",
    "        res_false_30 = str(round(true_value + 10,2)) + \" angle\"\r\n",
    "        res_false1_30 = str(round(true_value / 10,2)) + \" angle\"\r\n",
    "        res_false2_30 = str(round(unknown_angle + 10,2)) + \" angle\"\r\n",
    "\r\n",
    "    question_30 = \"\"\"Un triangle a trois angles. Un petit, un moyen qui est le {} du petit et un grand qui est le {} du petit. {}\"\"\". format(moyen_angle, grand_angle, end_question)\r\n",
    "    return (question_30, res_true_30, res_false_30, res_false1_30, res_false2_30)"
   ],
   "outputs": [],
   "metadata": {}
  },
  {
   "cell_type": "code",
   "execution_count": 66,
   "source": [
    "question_30, res_true_30, res_false_30, res_false1_30, res_false2_30 = question_30()\r\n",
    "print(question_30)\r\n",
    "print(\"\\n\")\r\n",
    "print(\"{}.  {}\".format(1, res_true_30))\r\n",
    "print(\"{}.  {}\".format(2, res_false_30))\r\n",
    "print(\"{}.  {}\".format(3, res_false1_30))\r\n",
    "print(\"{}.  {}\".format(4, res_false2_30))"
   ],
   "outputs": [
    {
     "output_type": "stream",
     "name": "stdout",
     "text": [
      "Un triangle a trois angles. Un petit, un moyen qui est le triple du petit et un grand qui est le triple du petit. Le grand angle est ?\n",
      "\n",
      "\n",
      "1.  77.14 angle\n",
      "2.  87.14 angle\n",
      "3.  7.71 angle\n",
      "4.  35.71 angle\n"
     ]
    }
   ],
   "metadata": {}
  },
  {
   "cell_type": "code",
   "execution_count": 92,
   "source": [
    "def question_31():\r\n",
    "    question_31 = \"Quelle est la solution de l'équation suivante ?\"\r\n",
    "    "
   ],
   "outputs": [],
   "metadata": {}
  },
  {
   "cell_type": "code",
   "execution_count": 167,
   "source": [
    "from random import randint\r\n",
    "def question_32():\r\n",
    "    exam_marks1 = randint(7,10)\r\n",
    "    exam_marks2 = randint(13,15)\r\n",
    "    exam_trail1 = randint(4,5)\r\n",
    "    exam_trail2 = randint(5,6)\r\n",
    "\r\n",
    "    question_32 = \"\"\"La moyenne d'un élève sur {} épreuves est de {}/20. Quelle doit être sa note à la {}ème épreuve pour obtenir une moyenne de {}/20 ?\"\"\". format(exam_trail1, exam_marks1, exam_trail2, exam_marks2)\r\n",
    "    first_exam = exam_trail1 * exam_marks1\r\n",
    "    second_exam = exam_trail2 * exam_marks2\r\n",
    "    exam_avg = second_exam - first_exam\r\n",
    "    res_true_32 = exam_avg\r\n",
    "    res_false_32 = exam_avg - 10\r\n",
    "    res_false1_32 = exam_avg * 2\r\n",
    "    res_false2_32 = exam_avg - 2\r\n",
    "    \r\n",
    "    return (question_32, exam_avg, res_false_32, res_false1_32, res_false2_32)\r\n",
    "\r\n",
    "    "
   ],
   "outputs": [],
   "metadata": {}
  },
  {
   "cell_type": "code",
   "execution_count": 168,
   "source": [
    "question_32, exam_avg, res_false_32, res_false1_32, res_false2_32 = question_32()\r\n",
    "print(question_32)\r\n",
    "print(\"\\n\")\r\n",
    "print(\"{}.  {}\".format(1, exam_avg))\r\n",
    "print(\"{}.  {}\".format(2, res_false_32))\r\n",
    "print(\"{}.  {}\".format(3, res_false1_32))\r\n",
    "print(\"{}.  {}\".format(4, res_false2_32))"
   ],
   "outputs": [
    {
     "output_type": "stream",
     "name": "stdout",
     "text": [
      "La moyenne d'un élève sur 4 épreuves est de 10/20. Quelle doit être sa note à la 5ème épreuve pour obtenir une moyenne de 13/20 ?\n",
      "\n",
      "\n",
      "1.  25\n",
      "2.  15\n",
      "3.  50\n",
      "4.  23\n"
     ]
    }
   ],
   "metadata": {}
  },
  {
   "cell_type": "code",
   "execution_count": 99,
   "source": [
    "def question_33():\r\n",
    "    pass"
   ],
   "outputs": [],
   "metadata": {}
  },
  {
   "cell_type": "code",
   "execution_count": 30,
   "source": [
    "def question_34():\r\n",
    "    pass"
   ],
   "outputs": [],
   "metadata": {}
  },
  {
   "cell_type": "code",
   "execution_count": 4,
   "source": [
    "def question_35():\r\n",
    "    pass"
   ],
   "outputs": [],
   "metadata": {}
  },
  {
   "cell_type": "code",
   "execution_count": null,
   "source": [],
   "outputs": [],
   "metadata": {}
  },
  {
   "cell_type": "code",
   "execution_count": null,
   "source": [],
   "outputs": [],
   "metadata": {}
  },
  {
   "cell_type": "markdown",
   "source": [],
   "metadata": {}
  }
 ],
 "metadata": {
  "kernelspec": {
   "name": "python3",
   "display_name": "Python 3.9.6 64-bit ('dum': conda)"
  },
  "language_info": {
   "codemirror_mode": {
    "name": "ipython",
    "version": 3
   },
   "file_extension": ".py",
   "mimetype": "text/x-python",
   "name": "python",
   "nbconvert_exporter": "python",
   "pygments_lexer": "ipython3",
   "version": "3.9.6"
  },
  "interpreter": {
   "hash": "1159e9e074d00cadc814599349c70a561a2fff9a5ccb9e5db9680d29796e42b3"
  }
 },
 "nbformat": 4,
 "nbformat_minor": 4
}