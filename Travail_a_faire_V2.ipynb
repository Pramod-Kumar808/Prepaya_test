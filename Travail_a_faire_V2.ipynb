{
 "cells": [
  {
   "cell_type": "markdown",
   "source": [
    "## TP entretien"
   ],
   "metadata": {}
  },
  {
   "cell_type": "markdown",
   "source": [
    "But du TP: \n",
    "\n",
    "L'idée est de générer de maniere automatique des questionnaires de type fonction publique.\n",
    "Une question est a choix multiples selon des themes plus ou moins compliqués.  \n",
    "Elle se compose d'un ennoncé et de 4 réponses dont une seule est correcte. \n",
    "\n",
    "Voici un exemple de question"
   ],
   "metadata": {}
  },
  {
   "cell_type": "markdown",
   "source": [
    "Un pianiste professionnel joue en moyenne 500 notes par minute. Il joue 6 heures par jour en\n",
    "moyenne et 350 jours par an. Sur cette base, après 40 ans de profession, combien de notes\n",
    "environ a-t-il joué ?\n",
    "  1. 2,5 millions\n",
    "  2. 25 millions\n",
    "  3. 250 millions\n",
    "  4. 2,5 milliards"
   ],
   "metadata": {}
  },
  {
   "cell_type": "markdown",
   "source": [
    "Ici, il s'agit d'une seule instance d'une question, dont le but est de voir si l'eleve sait multiplier correctement.\n",
    "\n",
    "Le calcul a faire est \"500*60*6*350*40\", ce qui donne 2.5 milliards\n",
    "\n",
    "On voit que toutes les réponses sont cohérentes, c'est l'ordre de grandeur qui va changer, tous les ordres de grandeurs sont proches les uns des autres. Et les chiffres sont ronds. \n",
    "\n",
    "On veut donc faire une fonction \"Question_pianiste\" qui permettrait de générer des dizaines (centaines ?) de question de ce genre de maniere aleatoire. La premiere réponse sera arbitrairement la bonne, les autres seront fausses.\n",
    "\n",
    "- Toutes les réponses devront etre différentes  \n",
    "- Il faut que toutes les réponses soient plausibles\n",
    "- Il faut également que les réponses soient entieres (pas de 2.6575 milliards)\n",
    "\n"
   ],
   "metadata": {}
  },
  {
   "cell_type": "markdown",
   "source": [
    "J'ai donné un example tres simple de questions que j'ai implémenté (pas forcément parfait)"
   ],
   "metadata": {}
  },
  {
   "cell_type": "code",
   "execution_count": 24,
   "source": [
    "import numpy as np\r\n",
    "import random \r\n",
    "from fractions import Fraction"
   ],
   "outputs": [],
   "metadata": {}
  },
  {
   "cell_type": "code",
   "execution_count": 25,
   "source": [
    "def Question_calcul_puissances(): \r\n",
    "    nombre = random.choice((2, 3))\r\n",
    "    liste_puissance = [-3, -4, -5, -6]\r\n",
    "    puissance = random.choice(liste_puissance)\r\n",
    "\r\n",
    "    reponse_juste = Fraction(1, nombre ** (-puissance))\r\n",
    "    reponse_fausse1 = -(nombre ** (-puissance))\r\n",
    "    reponse_fausse2 = -(nombre * (-puissance))\r\n",
    "    reponse_fausse3 = Fraction(1, nombre * (-puissance))\r\n",
    "    question = \"\"\"{} ** {} est égal à:\"\"\".format(nombre, puissance)\r\n",
    "\r\n",
    "    return (question, reponse_juste, reponse_fausse1, reponse_fausse2, reponse_fausse3)"
   ],
   "outputs": [],
   "metadata": {}
  },
  {
   "cell_type": "code",
   "execution_count": 26,
   "source": [
    "question, rep0, rep1, rep2, rep3 = Question_calcul_puissances()\r\n",
    "print(question)\r\n",
    "print(rep0)\r\n",
    "print(rep1)\r\n",
    "print(rep2)\r\n",
    "print(rep3)"
   ],
   "outputs": [
    {
     "output_type": "stream",
     "name": "stdout",
     "text": [
      "3 ** -6 est égal à:\n",
      "1/729\n",
      "-729\n",
      "-18\n",
      "1/18\n"
     ]
    }
   ],
   "metadata": {}
  },
  {
   "cell_type": "markdown",
   "source": [
    "Voici la liste des questions a générer"
   ],
   "metadata": {}
  },
  {
   "cell_type": "markdown",
   "source": [
    "Q 29\n",
    "\n",
    "Une carte routière est à l’échelle 1/250 000. Quelle distance réelle représentent 4 cm sur cette\n",
    "carte ?\n",
    "    1. 1 km\n",
    "    2. 10 km\n",
    "    3. 25 km\n",
    "    4. 100 km"
   ],
   "metadata": {}
  },
  {
   "cell_type": "markdown",
   "source": [
    "Q 30\r\n",
    "Un triangle a trois angles. Un petit, un moyen qui est le double du petit et un grand qui est le\r\n",
    "triple du petit. Il s’agit donc :\r\n",
    "    1. 141\r\n",
    "    2. 153\r\n",
    "    3. 162\r\n",
    "    4. 178"
   ],
   "metadata": {}
  },
  {
   "cell_type": "markdown",
   "source": [
    "Q 31\r\n",
    "Quelle est la solution de l'équation suivante ?\r\n",
    "(4x+2)/(x-1) = 3(x*x-1)/((x-1)^2))\r\n",
    "\r\n",
    "    1. x = -3\r\n",
    "    2. x = -1\r\n",
    "    3. x = 1\r\n",
    "    4. x = 3"
   ],
   "metadata": {}
  },
  {
   "cell_type": "code",
   "execution_count": null,
   "source": [],
   "outputs": [],
   "metadata": {}
  },
  {
   "cell_type": "markdown",
   "source": [
    "Q 32\r\n",
    "La moyenne d'un élève sur 4 épreuves est de 13/20. \r\n",
    "Quelle doit être sa note à la 5ème épreuve pour obtenir une moyenne de 14/20 \r\n",
    "    1. 15\r\n",
    "    2. 16\r\n",
    "    3. 17\r\n",
    "    4. 18"
   ],
   "metadata": {}
  },
  {
   "cell_type": "markdown",
   "source": [
    "Q 33\r\n",
    "Trois personnes achètent ensemble un cheval de course. Le premier met le tiers du prix, le\r\n",
    "second met 45 % de la somme et le dernier met 13 000 €. Combien coûte ce cheval ?\r\n",
    "    1. 50 000 €\r\n",
    "    2. 60 000 €\r\n",
    "    3. 70 000 €\r\n",
    "    4. 80 000 €"
   ],
   "metadata": {}
  },
  {
   "cell_type": "markdown",
   "source": [
    "Q 34\r\n",
    "Trouvez la figure qui possède la plus grande surface parmi les quatre propositions suivantes :\r\n",
    "    1. Un cercle de rayon r = 2 cm avec Pi = 3,14\r\n",
    "    2. Un triangle rectangle dont le côté opposé mesure 6 cm et le côté adjacent mesure 4 cm\r\n",
    "    3. Un carré de côté A = 4,5 cm\r\n",
    "    4. Un rectangle de grand côté L = 6 cm et de petit côté l = 3 cm\r\n"
   ],
   "metadata": {}
  },
  {
   "cell_type": "markdown",
   "source": [
    "Q 35\r\n",
    "Supposons un nouveau système de numérotation dans lequel 1 heure ferait 70 minutes et\r\n",
    "1 minute ferait 40 secondes. À quelle durée en heure / minutes / secondes correspondrait une\r\n",
    "durée de 4 500 secondes ?\r\n",
    "\r\n",
    "    1. 1 h 40 min 40 s\r\n",
    "    2. 1 h 41 min 10 s\r\n",
    "    3. 1 h 41 min 50 s\r\n",
    "    4. 1 h 42 min 20 "
   ],
   "metadata": {}
  },
  {
   "cell_type": "markdown",
   "source": [
    "#### A FAIRE"
   ],
   "metadata": {}
  },
  {
   "cell_type": "code",
   "execution_count": 1,
   "source": [
    "def question_29():\r\n",
    "    "
   ],
   "outputs": [],
   "metadata": {}
  },
  {
   "cell_type": "code",
   "execution_count": 2,
   "source": [
    "def question_30():\r\n",
    "    pass"
   ],
   "outputs": [],
   "metadata": {}
  },
  {
   "cell_type": "code",
   "execution_count": 3,
   "source": [
    "def question_31():\r\n",
    "    pass"
   ],
   "outputs": [],
   "metadata": {}
  },
  {
   "cell_type": "code",
   "execution_count": 28,
   "source": [
    "def question_32():\r\n",
    "    pass"
   ],
   "outputs": [],
   "metadata": {}
  },
  {
   "cell_type": "code",
   "execution_count": 29,
   "source": [
    "def question_33():\r\n",
    "    pass"
   ],
   "outputs": [],
   "metadata": {}
  },
  {
   "cell_type": "code",
   "execution_count": 30,
   "source": [
    "def question_34():\r\n",
    "    pass"
   ],
   "outputs": [],
   "metadata": {}
  },
  {
   "cell_type": "code",
   "execution_count": 4,
   "source": [
    "def question_35():\r\n",
    "    pass"
   ],
   "outputs": [],
   "metadata": {}
  },
  {
   "cell_type": "code",
   "execution_count": null,
   "source": [],
   "outputs": [],
   "metadata": {}
  },
  {
   "cell_type": "code",
   "execution_count": null,
   "source": [],
   "outputs": [],
   "metadata": {}
  },
  {
   "cell_type": "markdown",
   "source": [],
   "metadata": {}
  }
 ],
 "metadata": {
  "kernelspec": {
   "display_name": "Python 3",
   "language": "python",
   "name": "python3"
  },
  "language_info": {
   "codemirror_mode": {
    "name": "ipython",
    "version": 3
   },
   "file_extension": ".py",
   "mimetype": "text/x-python",
   "name": "python",
   "nbconvert_exporter": "python",
   "pygments_lexer": "ipython3",
   "version": "3.7.6"
  }
 },
 "nbformat": 4,
 "nbformat_minor": 4
}