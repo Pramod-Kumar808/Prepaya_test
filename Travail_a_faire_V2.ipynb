{
 "cells": [
  {
   "cell_type": "markdown",
   "source": [
    "## TP entretien"
   ],
   "metadata": {}
  },
  {
   "cell_type": "markdown",
   "source": [
    "But du TP: \n",
    "\n",
    "L'idée est de générer de maniere automatique des questionnaires de type fonction publique.\n",
    "Une question est a choix multiples selon des themes plus ou moins compliqués.  \n",
    "Elle se compose d'un ennoncé et de 4 réponses dont une seule est correcte. \n",
    "\n",
    "Voici un exemple de question"
   ],
   "metadata": {}
  },
  {
   "cell_type": "markdown",
   "source": [
    "Un pianiste professionnel joue en moyenne 500 notes par minute. Il joue 6 heures par jour en\n",
    "moyenne et 350 jours par an. Sur cette base, après 40 ans de profession, combien de notes\n",
    "environ a-t-il joué ?\n",
    "  1. 2,5 millions\n",
    "  2. 25 millions\n",
    "  3. 250 millions\n",
    "  4. 2,5 milliards"
   ],
   "metadata": {}
  },
  {
   "cell_type": "markdown",
   "source": [
    "Ici, il s'agit d'une seule instance d'une question, dont le but est de voir si l'eleve sait multiplier correctement.\n",
    "\n",
    "Le calcul a faire est \"500*60*6*350*40\", ce qui donne 2.5 milliards\n",
    "\n",
    "On voit que toutes les réponses sont cohérentes, c'est l'ordre de grandeur qui va changer, tous les ordres de grandeurs sont proches les uns des autres. Et les chiffres sont ronds. \n",
    "\n",
    "On veut donc faire une fonction \"Question_pianiste\" qui permettrait de générer des dizaines (centaines ?) de question de ce genre de maniere aleatoire. La premiere réponse sera arbitrairement la bonne, les autres seront fausses.\n",
    "\n",
    "- Toutes les réponses devront etre différentes  \n",
    "- Il faut que toutes les réponses soient plausibles\n",
    "- Il faut également que les réponses soient entieres (pas de 2.6575 milliards)\n",
    "\n"
   ],
   "metadata": {}
  },
  {
   "cell_type": "markdown",
   "source": [
    "J'ai donné un example tres simple de questions que j'ai implémenté (pas forcément parfait)"
   ],
   "metadata": {}
  },
  {
   "cell_type": "code",
   "execution_count": 3,
   "source": [
    "import numpy as np\r\n",
    "import random \r\n",
    "from fractions import Fraction"
   ],
   "outputs": [],
   "metadata": {}
  },
  {
   "cell_type": "code",
   "execution_count": 4,
   "source": [
    "def Question_calcul_puissances(): \r\n",
    "    nombre = random.choice((2, 3))\r\n",
    "    liste_puissance = [-3, -4, -5, -6]\r\n",
    "    puissance = random.choice(liste_puissance)\r\n",
    "\r\n",
    "    reponse_juste = Fraction(1, nombre ** (-puissance))\r\n",
    "    reponse_fausse1 = -(nombre ** (-puissance))\r\n",
    "    reponse_fausse2 = -(nombre * (-puissance))\r\n",
    "    reponse_fausse3 = Fraction(1, nombre * (-puissance))\r\n",
    "    question = \"\"\"{} ** {} est égal à:\"\"\".format(nombre, puissance)\r\n",
    "\r\n",
    "    return (question, reponse_juste, reponse_fausse1, reponse_fausse2, reponse_fausse3)"
   ],
   "outputs": [],
   "metadata": {}
  },
  {
   "cell_type": "code",
   "execution_count": 5,
   "source": [
    "question, rep0, rep1, rep2, rep3 = Question_calcul_puissances()\r\n",
    "print(question)\r\n",
    "print(rep0)\r\n",
    "print(rep1)\r\n",
    "print(rep2)\r\n",
    "print(rep3)"
   ],
   "outputs": [
    {
     "output_type": "stream",
     "name": "stdout",
     "text": [
      "2 ** -5 est égal à:\n",
      "1/32\n",
      "-32\n",
      "-10\n",
      "1/10\n"
     ]
    }
   ],
   "metadata": {}
  },
  {
   "cell_type": "markdown",
   "source": [
    "Voici la liste des questions a générer"
   ],
   "metadata": {}
  },
  {
   "cell_type": "markdown",
   "source": [
    "Q 29\r\n",
    "\r\n",
    "Une carte routière est à l’échelle 1/250 000. Quelle distance réelle représentent 4 cm sur cette\r\n",
    "carte ?\r\n",
    "    1. 1 km\r\n",
    "    2. 10 km\r\n",
    "    3. 25 km\r\n",
    "    4. 100 km"
   ],
   "metadata": {}
  },
  {
   "cell_type": "markdown",
   "source": [
    "Q 30\r\n",
    "Un triangle a trois angles. Un petit, un moyen qui est le double du petit et un grand qui est le\r\n",
    "triple du petit. Il s’agit donc :\r\n",
    "    1. 141\r\n",
    "    2. 153\r\n",
    "    3. 162\r\n",
    "    4. 178"
   ],
   "metadata": {}
  },
  {
   "cell_type": "markdown",
   "source": [
    "Q 31\r\n",
    "Quelle est la solution de l'équation suivante ?\r\n",
    "(4x+2)/(x-1) = 3(x*x-1)/((x-1)^2))\r\n",
    "\r\n",
    "    1. x = -3\r\n",
    "    2. x = -1\r\n",
    "    3. x = 1\r\n",
    "    4. x = 3"
   ],
   "metadata": {}
  },
  {
   "cell_type": "markdown",
   "source": [
    "Q 32\r\n",
    "La moyenne d'un élève sur 4 épreuves est de 13/20. \r\n",
    "Quelle doit être sa note à la 5ème épreuve pour obtenir une moyenne de 14/20 \r\n",
    "    1. 15\r\n",
    "    2. 16\r\n",
    "    3. 17\r\n",
    "    4. 18"
   ],
   "metadata": {}
  },
  {
   "cell_type": "markdown",
   "source": [
    "Q 33\r\n",
    "Trois personnes achètent ensemble un cheval de course. Le premier met le tiers du prix, le\r\n",
    "second met 45 % de la somme et le dernier met 13 000 €. Combien coûte ce cheval ?\r\n",
    "    1. 50 000 €\r\n",
    "    2. 60 000 €\r\n",
    "    3. 70 000 €\r\n",
    "    4. 80 000 €"
   ],
   "metadata": {}
  },
  {
   "cell_type": "markdown",
   "source": [
    "Q 34\r\n",
    "Trouvez la figure qui possède la plus grande surface parmi les quatre propositions suivantes :\r\n",
    "    1. Un cercle de rayon r = 2 cm avec Pi = 3,14\r\n",
    "    2. Un triangle rectangle dont le côté opposé mesure 6 cm et le côté adjacent mesure 4 cm\r\n",
    "    3. Un carré de côté A = 4,5 cm\r\n",
    "    4. Un rectangle de grand côté L = 6 cm et de petit côté l = 3 cm\r\n"
   ],
   "metadata": {}
  },
  {
   "cell_type": "markdown",
   "source": [
    "Q 35\r\n",
    "Supposons un nouveau système de numérotation dans lequel 1 heure ferait 70 minutes et\r\n",
    "1 minute ferait 40 secondes. À quelle durée en heure / minutes / secondes correspondrait une\r\n",
    "durée de 4 500 secondes ?\r\n",
    "\r\n",
    "    1. 1 h 40 min 40 s\r\n",
    "    2. 1 h 41 min 10 s\r\n",
    "    3. 1 h 41 min 50 s\r\n",
    "    4. 1 h 42 min 20 "
   ],
   "metadata": {}
  },
  {
   "cell_type": "markdown",
   "source": [
    "#### A FAIRE"
   ],
   "metadata": {}
  },
  {
   "cell_type": "code",
   "execution_count": 104,
   "source": [
    "from random import choice\r\n",
    "from fractions import Fraction \r\n",
    "def question_29():\r\n",
    "    scale_list = [150000,200000,250000,300000,350000]\r\n",
    "    demoninator = choice(scale_list)\r\n",
    "    km_scale = Fraction(1, demoninator)\r\n",
    "    # print(km_scale)\r\n",
    "    cm_value = choice(range(2,10))\r\n",
    "    rep_ture = str(round((cm_value/100000)/km_scale)) + \" km\"\r\n",
    "    rep_false = str(demoninator/10000) + \" km\"\r\n",
    "    rep_false2 = str(round((cm_value/100000)/km_scale) - 1) + \" km\"\r\n",
    "    rep_false3 = str(round((cm_value/100000)/km_scale) / 10) + \" km\"\r\n",
    "    question = \"\"\"Une carte routière est à l’échelle {}. Quelle distance réelle représentent {} cm sur cette carte ?\"\"\". format(km_scale, cm_value)\r\n",
    "    return (question, rep_ture, rep_false, rep_false2, rep_false3)"
   ],
   "outputs": [],
   "metadata": {}
  },
  {
   "cell_type": "code",
   "execution_count": 105,
   "source": [
    "question, rep_true, rep_false, rep_false2, rep_false3 = question_29()\r\n",
    "print(question)\r\n",
    "print(\"\\n\")\r\n",
    "print(\"{}.  {}\".format(1, rep_true))\r\n",
    "print(\"{}.  {}\".format(2, rep_false))\r\n",
    "print(\"{}.  {}\".format(3, rep_false2))\r\n",
    "print(\"{}.  {}\".format(4, rep_false3))"
   ],
   "outputs": [
    {
     "output_type": "stream",
     "name": "stdout",
     "text": [
      "Une carte routière est à l’échelle 1/300000. Quelle distance réelle représentent 8 cm sur cette carte ?\n",
      "\n",
      "\n",
      "1.  24 km\n",
      "2.  30.0 km\n",
      "3.  23 km\n",
      "4.  2.4 km\n"
     ]
    }
   ],
   "metadata": {}
  },
  {
   "cell_type": "code",
   "execution_count": 202,
   "source": [
    "def question_30():\r\n",
    "    d = {\r\n",
    "        \"double\" : 2,\r\n",
    "        \"triple\" : 3,\r\n",
    "        \"quadruple\" : 4,\r\n",
    "        \"quintuple\" : 5,\r\n",
    "        \"sextuple\" : 6\r\n",
    "    }\r\n",
    "    angle_seq = [\"double\", \"triple\", \"quadruple\", \"quintuple\", \"sextuple\"]\r\n",
    "    moyen_angle = choice(angle_seq)\r\n",
    "    grand_angle = choice(angle_seq)\r\n",
    "    moyen_res = [val for key, val in d.items() if moyen_angle in key]\r\n",
    "    grand_res = [val for key, val in d.items() if grand_angle in key]\r\n",
    "    angle_question_list = [\"Le petit angle est ?\", \"L'angle moyen est ?\", \"Le grand angle est ?\"]\r\n",
    "    end_question = choice(angle_question_list)\r\n",
    "    # print(end_question, moyen_res, grand_res)\r\n",
    "    # print(type(moyen_res))\r\n",
    "    unknown_angle = (180/(int(moyen_res[0]) + int(grand_res[0]) + 1))\r\n",
    "    # print(unknown_angle)\r\n",
    "    if end_question == angle_question_list[0]:\r\n",
    "        true_value = round(unknown_angle,2)\r\n",
    "        # print(true_value)\r\n",
    "        res_true_30 = str(true_value) + \" °\"\r\n",
    "        res_false_30 = str(round(true_value + 10,2)) + \" °\"\r\n",
    "        res_false1_30 = str(round(true_value + 2,2)) + \" °\"\r\n",
    "        res_false2_30 = str(round(unknown_angle,2)) + \" °\"\r\n",
    "    elif end_question == angle_question_list[1]:\r\n",
    "        true_value = round(int(moyen_res[0]) * unknown_angle,2)\r\n",
    "        # print(true_value)\r\n",
    "        res_true_30 = str(true_value) + \" °\"\r\n",
    "        res_false_30 = str(round(true_value + 10,2)) + \" °\"\r\n",
    "        res_false1_30 = str(round(true_value + 2,2)) + \" °\"\r\n",
    "        res_false2_30 = str(round(unknown_angle,2)) + \" °\"\r\n",
    "    elif end_question == angle_question_list[2]:\r\n",
    "        true_value = round(int(grand_res[0]) * unknown_angle,2)\r\n",
    "        # print(true_value)\r\n",
    "        res_true_30 = str(true_value)+ \" °\"\r\n",
    "        res_false_30 = str(round(true_value + 10,2)) + \" °\"\r\n",
    "        res_false1_30 = str(round(true_value + 2,2)) + \" °\"\r\n",
    "        res_false2_30 = str(round(unknown_angle,2)) + \" °\"\r\n",
    "\r\n",
    "    question_30 = \"\"\"Un triangle a trois angles. Un petit, un moyen qui est le {} du petit et un grand qui est le {} du petit. {}\"\"\". format(moyen_angle, grand_angle, end_question)\r\n",
    "    return (question_30, res_true_30, res_false_30, res_false1_30, res_false2_30)"
   ],
   "outputs": [],
   "metadata": {}
  },
  {
   "cell_type": "code",
   "execution_count": 203,
   "source": [
    "question_30, res_true_30, res_false_30, res_false1_30, res_false2_30 = question_30()\r\n",
    "print(question_30)\r\n",
    "print(\"\\n\")\r\n",
    "print(\"{}.  {}\".format(1, res_true_30))\r\n",
    "print(\"{}.  {}\".format(2, res_false_30))\r\n",
    "print(\"{}.  {}\".format(3, res_false1_30))\r\n",
    "print(\"{}.  {}\".format(4, res_false2_30))"
   ],
   "outputs": [
    {
     "output_type": "stream",
     "name": "stdout",
     "text": [
      "Un triangle a trois angles. Un petit, un moyen qui est le quadruple du petit et un grand qui est le quintuple du petit. Le petit angle est ?\n",
      "\n",
      "\n",
      "1.  18.0 °\n",
      "2.  28.0 °\n",
      "3.  20.0 °\n",
      "4.  18.0 °\n"
     ]
    }
   ],
   "metadata": {}
  },
  {
   "cell_type": "code",
   "execution_count": 51,
   "source": [
    "def question_31():\r\n",
    "    question_31 = \"Quelle est la solution de l'équation suivante ?\"\r\n",
    "    A = randint(1,9)\r\n",
    "    B = randint(1,9)\r\n",
    "    C = randint(1,9)\r\n",
    "    \r\n",
    "    "
   ],
   "outputs": [],
   "metadata": {}
  },
  {
   "cell_type": "code",
   "execution_count": 57,
   "source": [
    "question_31()"
   ],
   "outputs": [],
   "metadata": {}
  },
  {
   "cell_type": "code",
   "execution_count": 83,
   "source": [
    "from sympy import *\r\n",
    "\r\n",
    "A = expand((4*x+2)/(x-1))\r\n",
    "B = expand((3*(x*x-1))/((x-1)**2))\r\n",
    "(A == B)"
   ],
   "outputs": [
    {
     "output_type": "execute_result",
     "data": {
      "text/plain": [
       "False"
      ]
     },
     "metadata": {},
     "execution_count": 83
    }
   ],
   "metadata": {}
  },
  {
   "cell_type": "code",
   "execution_count": 188,
   "source": [
    "from random import randint\r\n",
    "def question_32():\r\n",
    "    exam_marks1 = randint(10,14)\r\n",
    "    exam_marks2 = exam_marks1 + 1\r\n",
    "    exam_trail1 = randint(4,5)\r\n",
    "    exam_trail2 = exam_trail1 + 1\r\n",
    "\r\n",
    "    question_32 = \"\"\"La moyenne d'un élève sur {} épreuves est de {}/20. Quelle doit être sa note à la {}ème épreuve pour obtenir une moyenne de {}/20 ?\"\"\". format(exam_trail1, exam_marks1, exam_trail2, exam_marks2)\r\n",
    "    first_exam = exam_trail1 * exam_marks1\r\n",
    "    second_exam = exam_trail2 * exam_marks2\r\n",
    "    exam_avg = second_exam - first_exam\r\n",
    "    res_true_32 = exam_avg\r\n",
    "    res_false_32 = exam_avg + 2\r\n",
    "    res_false1_32 = exam_avg - 2\r\n",
    "    res_false2_32 = exam_avg - 2.5\r\n",
    "    \r\n",
    "    return (question_32, res_true_32, res_false_32, res_false1_32, res_false2_32)\r\n",
    "\r\n",
    "    "
   ],
   "outputs": [],
   "metadata": {}
  },
  {
   "cell_type": "code",
   "execution_count": 189,
   "source": [
    "question_32, res_true_32, res_false_32, res_false1_32, res_false2_32 = question_32()\r\n",
    "print(question_32)\r\n",
    "print(\"\\n\")\r\n",
    "print(\"{}.  {}\".format(1, res_true_32))\r\n",
    "print(\"{}.  {}\".format(2, res_false_32))\r\n",
    "print(\"{}.  {}\".format(3, res_false1_32))\r\n",
    "print(\"{}.  {}\".format(4, res_false2_32))"
   ],
   "outputs": [
    {
     "output_type": "stream",
     "name": "stdout",
     "text": [
      "La moyenne d'un élève sur 4 épreuves est de 12/20. Quelle doit être sa note à la 5ème épreuve pour obtenir une moyenne de 13/20 ?\n",
      "\n",
      "\n",
      "1.  17\n",
      "2.  19\n",
      "3.  15\n",
      "4.  14.5\n"
     ]
    }
   ],
   "metadata": {}
  },
  {
   "cell_type": "code",
   "execution_count": 259,
   "source": [
    "def question_33():\r\n",
    "    d = {\r\n",
    "        \"deuxième\" : 50,\r\n",
    "        \"troisième \" : 33.3,\r\n",
    "        \"quatrième\" : 25,\r\n",
    "        \"cinquième\" : 20\r\n",
    "    }\r\n",
    "\r\n",
    "    parts = [\"deuxième\", \"troisième\", \"quatrième\", \"cinquième\"]\r\n",
    "    parts_value = choice(parts)\r\n",
    "    first_res = [val for key, val in d.items() if parts_value in key]\r\n",
    "    first_person = int(first_res[0])\r\n",
    "    second_person = 100 - first_person - randint(30,70)\r\n",
    "    third_person = randint(10000,25000)\r\n",
    "    question_33 = \"\"\"Trois personnes achètent ensemble un cheval de course. Le premier met le {} du prix, le second met {} % de la somme et le dernier met {} €. Combien coûte ce cheval ?\"\"\".format(parts_value,second_person, third_person)\r\n",
    "    percent = (100 - second_person - first_person)\r\n",
    "    total_cost = round((third_person / percent)*100,2)\r\n",
    "    \r\n",
    "    res_true_33 = str(total_cost) + \" €\" \r\n",
    "    res_false_33 = str(round(total_cost - 100,2)) + \" €\"\r\n",
    "    res_false1_33 = str(round(total_cost / 10,2)) + \" €\"\r\n",
    "    res_false2_33 = str(round(total_cost / 100,2)) + \" €\"\r\n",
    "    return question_33, res_true_33, res_false_33, res_false1_33, res_false2_33"
   ],
   "outputs": [],
   "metadata": {}
  },
  {
   "cell_type": "code",
   "execution_count": 260,
   "source": [
    "question_33, res_true_33, res_false_33, res_false1_33, res_false2_33 = question_33()\r\n",
    "print(question_33)\r\n",
    "print(\"\\n\")\r\n",
    "print(\"{}.  {}\".format(1, res_true_33))\r\n",
    "print(\"{}.  {}\".format(2, res_false_33))\r\n",
    "print(\"{}.  {}\".format(3, res_false1_33))\r\n",
    "print(\"{}.  {}\".format(4, res_false2_33))"
   ],
   "outputs": [
    {
     "output_type": "stream",
     "name": "stdout",
     "text": [
      "Trois personnes achètent ensemble un cheval de course. Le premier met le quatrième du prix, le second met 34 % de la somme et le dernier met 21745 €. Combien coûte ce cheval ?\n",
      "\n",
      "\n",
      "1.  53036.59 €\n",
      "2.  52936.59 €\n",
      "3.  5303.66 €\n",
      "4.  530.37 €\n"
     ]
    }
   ],
   "metadata": {}
  },
  {
   "cell_type": "code",
   "execution_count": 96,
   "source": [
    "def question_34():\r\n",
    "    question_34 = \"Trouvez la figure qui possède la plus grande surface parmi les quatre propositions suivantes :\"\r\n",
    "    r = randint(2,10)\r\n",
    "    Pi = 3.14\r\n",
    "    option1 = \"\"\"Un cercle de rayon r = {} cm avec Pi = {}\"\"\".format(r, Pi)\r\n",
    "    option_ans = Pi * r**2\r\n",
    "    \r\n",
    "    measure1 = randint(2,10)\r\n",
    "    measure2 = randint(2,10)\r\n",
    "    option2 = \"\"\"Un triangle rectangle dont le côté opposé mesure {} cm et le côté adjacent mesure {} cm\"\"\".format(measure1, measure2)\r\n",
    "    option2_ans = (measure1*measure2)/2\r\n",
    "\r\n",
    "    Area = randint(2,5)\r\n",
    "    option3 = \"\"\"Un carré de côté A = {} cm\"\"\".format(Area)\r\n",
    "    option3_ans = Area**2\r\n",
    "\r\n",
    "    L = randint(5,10)\r\n",
    "    l = randint(5,10)\r\n",
    "    option4 = \"\"\"Un rectangle de grand côté L = {} cm et de petit côté l = {} cm\"\"\".format(L,l)\r\n",
    "    option4_ans = L*l\r\n",
    "\r\n",
    "    answer_list = [[option_ans, option1], [option2_ans, option2], [option3_ans, option3], [option4_ans, option4]]\r\n",
    "    res_true = max(answer_list)\r\n",
    "    res_true_34 = res_true[1]\r\n",
    "    res_false1 = random.choice([ele for ele in answer_list if ele != res_true])\r\n",
    "    res_false1_34 = res_false1[1]\r\n",
    "    res_false2 = random.choice([ele for ele in answer_list if ele not in [res_false1, res_true]])\r\n",
    "    res_false2_34 = res_false2[1]\r\n",
    "    res_false3 = random.choice([ele for ele in answer_list if ele not in [res_false1, res_true,res_false2]])\r\n",
    "    res_false3_34 = res_false3[1]\r\n",
    "    return question_34,res_true_34, res_false1_34, res_false2_34, res_false3_34\r\n"
   ],
   "outputs": [],
   "metadata": {}
  },
  {
   "cell_type": "code",
   "execution_count": 97,
   "source": [
    "question_34,res_true_34, res_false1_34, res_false2_34, res_false3_34 = question_34()\r\n",
    "print(question_34)\r\n",
    "print(\"\\n\")\r\n",
    "print(\"{}.  {}\".format(1, res_true_34))\r\n",
    "print(\"{}.  {}\".format(2, res_false1_34))\r\n",
    "print(\"{}.  {}\".format(3, res_false2_34))\r\n",
    "print(\"{}.  {}\".format(4, res_false3_34))"
   ],
   "outputs": [
    {
     "output_type": "stream",
     "name": "stdout",
     "text": [
      "Trouvez la figure qui possède la plus grande surface parmi les quatre propositions suivantes :\n",
      "\n",
      "\n",
      "1.  Un rectangle de grand côté L = 9 cm et de petit côté l = 8 cm\n",
      "2.  Un cercle de rayon r = 2 cm avec Pi = 3.14\n",
      "3.  Un triangle rectangle dont le côté opposé mesure 5 cm et le côté adjacent mesure 2 cm\n",
      "4.  Un carré de côté A = 4 cm\n"
     ]
    }
   ],
   "metadata": {}
  },
  {
   "cell_type": "code",
   "execution_count": 245,
   "source": [
    "import math\r\n",
    "\r\n",
    "def question_35():\r\n",
    "    minu = [60,70,80]\r\n",
    "    sec = [40,50,60]\r\n",
    "    minutes = choice(minu)\r\n",
    "    seconds = choice(sec)\r\n",
    "    time_req_list = [4500, 5550, 6000, 6500, 7000]\r\n",
    "    time_req = choice(time_req_list)\r\n",
    "    question_35 = \"\"\"Supposons un nouveau système de numérotation dans lequel 1 heure ferait {} minutes et 1 minute ferait {} secondes. À quelle durée en heure / minutes / secondes correspondrait une durée de {} secondes ?\"\"\".format(minutes, seconds, time_req)\r\n",
    "    res_seconds = time_req % seconds\r\n",
    "    total_minutes = time_req // seconds\r\n",
    "    res_minutes = total_minutes % 70\r\n",
    "    res_heures = total_minutes // 70\r\n",
    "    \r\n",
    "    minute_false1 = res_minutes + 10\r\n",
    "    minute_false2 = res_minutes + 1\r\n",
    "    minute_false3 = res_minutes + 5\r\n",
    "\r\n",
    "    second_false1 = res_seconds + 10\r\n",
    "    second_false2 = res_seconds + 5\r\n",
    "    second_false3 = res_seconds + 1\r\n",
    "    \r\n",
    "    return question_35, res_heures,res_minutes, res_seconds, minute_false1, minute_false2, minute_false3, second_false1, second_false2, second_false3"
   ],
   "outputs": [],
   "metadata": {}
  },
  {
   "cell_type": "code",
   "execution_count": 246,
   "source": [
    "question_35, res_heures,res_minutes, res_seconds, minute_false1, minute_false2, minute_false3, second_false1, second_false2, second_false3 = question_35()\r\n",
    "print(question_35)\r\n",
    "print(\"\\n\")\r\n",
    "print(\"{}. {} h {} m {} s\".format(1, res_heures, res_minutes, res_seconds))\r\n",
    "print(\"{}. {} h {} m {} s\".format(2, res_heures, minute_false1, second_false1))\r\n",
    "print(\"{}. {} h {} m {} s\".format(1, res_heures, minute_false2, second_false2))\r\n",
    "print(\"{}. {} h {} m {} s\".format(1, res_heures, minute_false3, second_false3))"
   ],
   "outputs": [
    {
     "output_type": "stream",
     "name": "stdout",
     "text": [
      "Supposons un nouveau système de numérotation dans lequel 1 heure ferait 60 minutes et 1 minute ferait 60 secondes. À quelle durée en heure / minutes / secondes correspondrait une durée de 5550 secondes ?\n",
      "\n",
      "\n",
      "1. 1 h 22 m 30 s\n",
      "2. 1 h 32 m 40 s\n",
      "1. 1 h 23 m 35 s\n",
      "1. 1 h 27 m 31 s\n"
     ]
    }
   ],
   "metadata": {}
  },
  {
   "cell_type": "code",
   "execution_count": null,
   "source": [],
   "outputs": [],
   "metadata": {}
  },
  {
   "cell_type": "markdown",
   "source": [],
   "metadata": {}
  }
 ],
 "metadata": {
  "kernelspec": {
   "name": "python3",
   "display_name": "Python 3.9.6 64-bit ('dum': conda)"
  },
  "language_info": {
   "codemirror_mode": {
    "name": "ipython",
    "version": 3
   },
   "file_extension": ".py",
   "mimetype": "text/x-python",
   "name": "python",
   "nbconvert_exporter": "python",
   "pygments_lexer": "ipython3",
   "version": "3.9.6"
  },
  "interpreter": {
   "hash": "1159e9e074d00cadc814599349c70a561a2fff9a5ccb9e5db9680d29796e42b3"
  }
 },
 "nbformat": 4,
 "nbformat_minor": 4
}