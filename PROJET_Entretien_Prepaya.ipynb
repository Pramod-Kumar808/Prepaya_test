{
 "cells": [
  {
   "cell_type": "markdown",
   "source": [
    "## TP entretien"
   ],
   "metadata": {
    "id": "aI7mBtY3kAY4"
   }
  },
  {
   "cell_type": "markdown",
   "source": [
    "But du TP: \r\n",
    "\r\n",
    "L'idée est de générer de maniere automatique des questionnaires de type fonction publique.\r\n",
    "Une question est a choix multiples selon des themes plus ou moins compliqués.  \r\n",
    "Elle se compose d'un ennoncé et de 4 réponses dont une seule est correcte. \r\n",
    "\r\n",
    "Voici un exemple de question"
   ],
   "metadata": {
    "id": "Ygci6hOrkAY_"
   }
  },
  {
   "cell_type": "markdown",
   "source": [
    "Un pianiste professionnel joue en moyenne 500 notes par minute. Il joue 6 heures par jour en\r\n",
    "moyenne et 350 jours par an. Sur cette base, après 40 ans de profession, combien de notes\r\n",
    "environ a-t-il joué ?\r\n",
    "  1. 2,5 millions\r\n",
    "  2. 25 millions\r\n",
    "  3. 250 millions\r\n",
    "  4. 2,5 milliards"
   ],
   "metadata": {
    "id": "NU7fDpU3kAZB"
   }
  },
  {
   "cell_type": "markdown",
   "source": [
    "###### Ici, \n",
    "il s'agit d'une seule instance d'une question, dont le but est de voir si l'eleve sait multiplier correctement.\n",
    "\n",
    "Le calcul a faire est \"500*60*6*350*40\", ce qui donne 2.5 milliards\n",
    "\n",
    "On voit que toutes les réponses sont cohérentes, c'est l'ordre de grandeur qui va changer, tous les ordres de grandeurs sont proches les uns des autres. Et les chiffres sont ronds. \n",
    "\n",
    "On veut donc faire une fonction \"Question_pianiste\" qui permettrait de générer des dizaines (centaines ?) de question de ce genre de maniere aleatoire. La premiere réponse sera arbitrairement la bonne, les autres seront fausses.\n",
    "\n",
    "- Toutes les réponses devront etre différentes  \n",
    "- Il faut que toutes les réponses soient plausibles\n",
    "- Il faut également que les réponses soient entieres (pas de 2.6575 milliards)\n",
    "\n"
   ],
   "metadata": {
    "id": "Ffk7N1bNkAZD"
   }
  },
  {
   "cell_type": "markdown",
   "source": [
    "J'ai donné un example tres simple de questions que j'ai implémenté (pas forcément parfait)"
   ],
   "metadata": {
    "id": "HAJvDFYXkAZE"
   }
  },
  {
   "cell_type": "code",
   "execution_count": 1,
   "source": [
    "import numpy as np\r\n",
    "import random \r\n",
    "from fractions import Fraction"
   ],
   "outputs": [],
   "metadata": {
    "id": "I8EWSjYvkAZG"
   }
  },
  {
   "cell_type": "code",
   "execution_count": 4,
   "source": [
    "def Question_calcul_puissances(): \r\n",
    "    nombre = random.choice((2, 3))\r\n",
    "    liste_puissance = [-3, -4, -5, -6]\r\n",
    "    puissance = random.choice(liste_puissance)\r\n",
    "\r\n",
    "    reponse_juste = Fraction(1, nombre ** (-puissance))\r\n",
    "    reponse_fausse1 = -(nombre ** (-puissance))\r\n",
    "    reponse_fausse2 = -(nombre * (-puissance))\r\n",
    "    reponse_fausse3 = Fraction(1, nombre * (-puissance))\r\n",
    "    question = \"\"\"{} ** {} est égal à:\"\"\".format(nombre, puissance)\r\n",
    "\r\n",
    "    return (question, reponse_juste, reponse_fausse1, reponse_fausse2, reponse_fausse3)"
   ],
   "outputs": [],
   "metadata": {
    "id": "uWHcNoVRkAZI"
   }
  },
  {
   "cell_type": "code",
   "execution_count": 5,
   "source": [
    "question, rep0, rep1, rep2, rep3 = Question_calcul_puissances()\r\n",
    "print(question)\r\n",
    "print(rep0)\r\n",
    "print(rep1)\r\n",
    "print(rep2)\r\n",
    "print(rep3)"
   ],
   "outputs": [
    {
     "output_type": "stream",
     "name": "stdout",
     "text": [
      "3 ** -6 est égal à:\n",
      "1/729\n",
      "-729\n",
      "-18\n",
      "1/18\n"
     ]
    }
   ],
   "metadata": {
    "id": "aj9PC1q5kAZJ",
    "outputId": "769fdda8-60aa-42fc-b173-6fe50b2b16d7"
   }
  },
  {
   "cell_type": "markdown",
   "source": [
    "Voici la liste des questions a générer"
   ],
   "metadata": {
    "id": "bMjA4IXzkAZN"
   }
  },
  {
   "cell_type": "markdown",
   "source": [
    "Q 40\r\n",
    "\r\n",
    "Un pianiste professionnel joue en moyenne 500 notes par minute. Il joue 6 heures par jour en\r\n",
    "moyenne et 350 jours par an. Sur cette base, après 40 ans de profession, combien de notes\r\n",
    "environ a-t-il joué ?\r\n",
    "  1. 2,5 millions\r\n",
    "  2. 25 millions\r\n",
    "  3. 250 millions\r\n",
    "  4. 2,5 milliards"
   ],
   "metadata": {
    "id": "GqyF9D5WkAZO"
   }
  },
  {
   "cell_type": "markdown",
   "source": [
    "Q 36\n",
    "Un bois est composé de 4/9 de noisetiers, de 1/6 de chênes et de 63 hêtres. Combien d’arbres\n",
    "composent ce bois ?\n",
    "1. 141\n",
    "2. 153\n",
    "3. 162\n",
    "4. 178"
   ],
   "metadata": {
    "id": "D782bTGQkAZP"
   }
  },
  {
   "cell_type": "markdown",
   "source": [
    "Q 31\n",
    "Un restaurateur propose uniquement deux formules pour le déjeuner : « une entrée et un\n",
    "plat » ou « un plat et un dessert ». Le client peut choisir parmi quatre entrées, cinq plats et\n",
    "trois desserts. Combien de possibilités différentes de déjeuners s’offrent au client ?\n",
    "1. 12\n",
    "2. 20\n",
    "3. 23--------\n",
    "4. 35"
   ],
   "metadata": {
    "id": "Dbyt-Ax_kAZQ"
   }
  },
  {
   "cell_type": "markdown",
   "source": [
    "Q 32\n",
    "Complétez la phrase suivante : « La somme des valeurs d'une série contenant n valeurs est\n",
    "égale à n fois ...................... de cette série ».\n",
    "1. l'écart type\n",
    "2. l'étendue\n",
    "3. la médiane\n",
    "4. la moyenne"
   ],
   "metadata": {
    "id": "zN-zTm7-kAZR"
   }
  },
  {
   "cell_type": "markdown",
   "source": [
    "#### A FAIRE"
   ],
   "metadata": {
    "id": "tGEJM_ZbkAZS"
   }
  },
  {
   "cell_type": "code",
   "execution_count": 6,
   "source": [
    "from random import choice\r\n",
    "def question_31():\r\n",
    "    d = {\r\n",
    "        \"un\": 1,\r\n",
    "        \"deux\": 2,\r\n",
    "        \"trois\": 3,\r\n",
    "        \"quatre\": 4,\r\n",
    "        \"cinq\": 5\r\n",
    "    }\r\n",
    "    nombres=[\"un\",\"deux\",\"trois\",\"quatre\",\"cinq\"]\r\n",
    "    \r\n",
    "    nb_entree=choice(nombres)\r\n",
    "    nombres.remove(nb_entree)\r\n",
    "\r\n",
    "    nb_plat=choice(nombres)\r\n",
    "    nombres.remove(nb_plat)\r\n",
    "\r\n",
    "    nb_dessert=choice(nombres)\r\n",
    "    nombres.remove(nb_dessert)\r\n",
    "\r\n",
    "    add_s = lambda x : 's' if x > 1 else ''  \r\n",
    "\r\n",
    "    question= \"\"\"Un restaurateur propose uniquement deux formules pour le déjeuner : « une entrée et un\r\n",
    "plat » ou « un plat et un dessert ». Le client peut choisir parmi {} entrée{}, {} plat{} et\r\n",
    "{} dessert{}. Combien de possibilités différentes de déjeuners s’offrent au client ?\"\"\".format(nb_entree, add_s(d[nb_entree]), nb_plat, add_s(d[nb_plat]), nb_dessert, add_s(d[nb_dessert]))\r\n",
    "\r\n",
    "\r\n",
    "    nb_entree = d[nb_entree]\r\n",
    "    nb_plat = d[nb_plat]\r\n",
    "    nb_dessert = d[nb_dessert]\r\n",
    "\r\n",
    "\r\n",
    "    reponse_juste = nb_entree * nb_plat + nb_dessert * nb_plat\r\n",
    "    reponse_fausse1 =  nb_entree * nb_plat \r\n",
    "    reponse_fausse2 = nb_dessert * nb_plat\r\n",
    "    reponse_fausse3 = nb_dessert*nb_entree + nb_plat\r\n",
    "    return (question, reponse_juste, reponse_fausse1, reponse_fausse2, reponse_fausse3)"
   ],
   "outputs": [],
   "metadata": {
    "id": "E610I6ibkAZT"
   }
  },
  {
   "cell_type": "code",
   "execution_count": 149,
   "source": [
    "from random import choice\r\n",
    "from fractions import Fraction \r\n",
    "def question_36():\r\n",
    "    denom1 = choice(range(10, 25))\r\n",
    "    denom2 = choice(range(10, 25))\r\n",
    "    num1 =   choice(range(1, 5))\r\n",
    "    num2 = choice(range(1, 5))\r\n",
    "    nhetres = choice(range(50, 101))\r\n",
    "    f1 = Fraction(num1, denom1)\r\n",
    "    f2 = Fraction(num2, denom2)\r\n",
    "    \r\n",
    "    question = \"Un bois est composé de {} de noisetiers, de {} de chênes et de {} hêtres. Combien d’arbres composent ce bois ?\".format(f1, f2, nhetres)\r\n",
    "    \r\n",
    "    reponse_juste = -nhetres // (f1 + f2 -1)\r\n",
    "    reponse_fausse1 = reponse_juste + 10\r\n",
    "    reponse_fausse2 = reponse_juste - choice(range(1, 10))\r\n",
    "    reponse_fausse3 = reponse_juste - choice(range(10, 21))\r\n",
    "\r\n",
    "    return question, reponse_juste, reponse_fausse1, reponse_fausse2, reponse_fausse3"
   ],
   "outputs": [],
   "metadata": {
    "id": "ZuKnW6CokAZU"
   }
  },
  {
   "cell_type": "code",
   "execution_count": 8,
   "source": [
    "from random import choice\r\n",
    "def question_32():\r\n",
    "    liste=[\" « La somme des valeurs d'une série contenant n valeurs est égale à n fois .................... de cette série ».\",\"« Si on ordonne une distribution,........... partage cette distribution en deux parties d’effectifs égaux ».\",\"«............. sert à mesurer la dispersion, ou l'étalement, d'un ensemble de valeurs autour de leur moyenne ».\",\"«.............  est la différence entre la plus grande et la plus petite valeur de la série statistique ».\"]\r\n",
    "    question1=choice(liste)\r\n",
    "    if question1==liste[0]:\r\n",
    "            reponse_juste=\"la moyenne\"\r\n",
    "            reponse_fausse1=\"la mediane\"\r\n",
    "            reponse_fausse2=\"l'etendue\"\r\n",
    "            reponse_fausse3=\"l'ecart type\"\r\n",
    "    elif question1==liste[1]:\r\n",
    "            reponse_juste=\"la mediane\"\r\n",
    "            reponse_fausse1=\"la moyenne\"\r\n",
    "            reponse_fausse2=\"l'ecart type\"\r\n",
    "            reponse_fausse3=\"l'etendue\"\r\n",
    "    elif question1==liste[2]:\r\n",
    "            reponse_juste=\"l'ecart type\"\r\n",
    "            reponse_fausse1=\"l'etendue\"\r\n",
    "            reponse_fausse2=\"la moyenne\"\r\n",
    "            reponse_fausse3=\"l'ecart type\"\r\n",
    "    else :               \r\n",
    "        reponse_juste=\"l'etendue\"\r\n",
    "        reponse_fausse1=\"l'ecart type\" \r\n",
    "        reponse_fausse2=\"la mediane\"\r\n",
    "        reponse_fausse3=\"la moyenne\"\r\n",
    "\r\n",
    "    question=\"Complétez la phrase suivante : {} \".format(question1)\r\n",
    "    return question, reponse_juste, reponse_fausse1, reponse_fausse2, reponse_fausse3"
   ],
   "outputs": [],
   "metadata": {
    "id": "OjKhJosJkAZU"
   }
  },
  {
   "cell_type": "code",
   "execution_count": 151,
   "source": [
    "from random import *\r\n",
    "import math\r\n",
    "def question_40():\r\n",
    "    note=randint(300,600)\r\n",
    "    nb_heure=randint(1,10)\r\n",
    "    nb_jour=randint(250,360)\r\n",
    "    an_profession=randint(30,60)\r\n",
    "    calcul=note*nb_heure*60*nb_jour*an_profession\r\n",
    "    \r\n",
    "    if calcul >= 1000000000:\r\n",
    "      val = round(calcul / 1000000000, 1) * 1000000000\r\n",
    "      reponse_juste= str(round(calcul / 1000000000, 1)) + \" milliards\"\r\n",
    "      reponse_fausse1 = str(val / (1000000 * 10)) + \" millions\"\r\n",
    "      reponse_fausse2 =  str(val / (1000000 * 100))  + \" millions\"\r\n",
    "      reponse_fausse3 =  str(val / (1000000 * 1000))  + \" millions\"\r\n",
    "    else:\r\n",
    "      v = calcul // 1000000\r\n",
    "      x = round(v / 100, 1)\r\n",
    "      reponse_juste= str(round(x * 100.0, 0)) + \" millions\"\r\n",
    "      val =  round((v) / 100, 1)\r\n",
    "      reponse_fausse1 = str(round((v * 1000000 * 10) / 1000000000, 1)) + \" milliards\"\r\n",
    "      reponse_fausse2 = str(val * 10) + \" millions\"\r\n",
    "      reponse_fausse3 = str(val)  + \" millions\"\r\n",
    "    question = \"\"\" Un pianiste professionnel joue en moyenne {} notes par minute. Il joue {} heures par jour en\r\n",
    "moyenne et {} jours par an. Sur cette base, après {} ans de profession, combien de notes\r\n",
    "environ a-t-il joué ?\"\"\".format(note,nb_heure,nb_jour,an_profession)\r\n",
    "    \r\n",
    "    return (question,reponse_juste,reponse_fausse1,reponse_fausse2,reponse_fausse3)"
   ],
   "outputs": [],
   "metadata": {
    "id": "9Bsc5rYBkAZV"
   }
  },
  {
   "cell_type": "code",
   "execution_count": 152,
   "source": [
    "question, rep0, rep1, rep2, rep3 = question_40()\r\n",
    "print(question)\r\n",
    "print(\" \")\r\n",
    "print(\"{}.  {}\".format(1, rep0))\r\n",
    "print(\"{}.  {}\".format(2, rep1))\r\n",
    "print(\"{}.  {}\".format(3, rep2))\r\n",
    "print(\"{}.  {}\".format(4, rep3))"
   ],
   "outputs": [
    {
     "output_type": "stream",
     "name": "stdout",
     "text": [
      " Un pianiste professionnel joue en moyenne 432 notes par minute. Il joue 4 heures par jour en\n",
      "moyenne et 257 jours par an. Sur cette base, après 43 ans de profession, combien de notes\n",
      "environ a-t-il joué ?\n",
      " \n",
      "1.  1.1 milliards\n",
      "2.  110.0 millions\n",
      "3.  11.0 millions\n",
      "4.  1.1 millions\n"
     ]
    }
   ],
   "metadata": {
    "colab": {
     "base_uri": "https://localhost:8080/"
    },
    "id": "ORLyItoUkAZW",
    "outputId": "20003b3e-3fae-4824-f9c8-22ade5d6ad55"
   }
  },
  {
   "cell_type": "code",
   "execution_count": 222,
   "source": [
    "question, rj, rf1, rf2, rf3 = question_36()\r\n",
    "print(question)\r\n",
    "print(\" \")\r\n",
    "print(\"{}.  {}\".format(1, rj))\r\n",
    "print(\"{}.  {}\".format(2, rf1))\r\n",
    "print(\"{}.  {}\".format(3, rf2))\r\n",
    "print(\"{}.  {}\".format(4, rf3))"
   ],
   "outputs": [
    {
     "output_type": "stream",
     "name": "stdout",
     "text": [
      "Un bois est composé de 2/17 de noisetiers, de 3/13 de chênes et de 87 hêtres. Combien d’arbres composent ce bois ?\n",
      " \n",
      "1.  133\n",
      "2.  143\n",
      "3.  126\n",
      "4.  119\n"
     ]
    }
   ],
   "metadata": {
    "id": "q1gqznzGsSTw"
   }
  },
  {
   "cell_type": "code",
   "execution_count": 138,
   "source": [
    "question, rj, rf1, rf2, rf3 = question_31()\r\n",
    "print(question)\r\n",
    "print(\" \")\r\n",
    "print(\"{}.  {}\".format(1, rj))\r\n",
    "print(\"{}.  {}\".format(2, rf1))\r\n",
    "print(\"{}.  {}\".format(3, rf2))\r\n",
    "print(\"{}.  {}\".format(4, rf3))"
   ],
   "outputs": [
    {
     "output_type": "stream",
     "name": "stdout",
     "text": [
      "Un restaurateur propose uniquement deux formules pour le déjeuner : « une entrée et un\n",
      "plat » ou « un plat et un dessert ». Le client peut choisir parmi quatre entrées, un plat et\n",
      "deux desserts. Combien de possibilités différentes de déjeuners s’offrent au client ?\n",
      " \n",
      "1.  6\n",
      "2.  4\n",
      "3.  2\n",
      "4.  9\n"
     ]
    }
   ],
   "metadata": {
    "id": "Rs5NYt1YkAZX",
    "outputId": "23603ac9-b2b9-4244-9a7e-ca509adc7481"
   }
  },
  {
   "cell_type": "code",
   "execution_count": 13,
   "source": [
    "question, rep0, rep1, rep2, rep3 = question_32()\r\n",
    "print(question)\r\n",
    "print(\" \")\r\n",
    "print(\"{}.  {}\".format(1, rep0))\r\n",
    "print(\"{}.  {}\".format(2, rep1))\r\n",
    "print(\"{}.  {}\".format(3, rep2))\r\n",
    "print(\"{}.  {}\".format(4, rep3))"
   ],
   "outputs": [
    {
     "output_type": "stream",
     "name": "stdout",
     "text": [
      "Complétez la phrase suivante : «............. sert à mesurer la dispersion, ou l'étalement, d'un ensemble de valeurs autour de leur moyenne ». \n",
      " \n",
      "1.  l'ecart type\n",
      "2.  l'etendue\n",
      "3.  la moyenne\n",
      "4.  l'ecart type\n"
     ]
    }
   ],
   "metadata": {
    "id": "Y8h2jW6YkAZX"
   }
  },
  {
   "cell_type": "markdown",
   "source": [],
   "metadata": {
    "id": "duZAFG0akAZY"
   }
  },
  {
   "cell_type": "code",
   "execution_count": 16,
   "source": [
    "Qlib = dict()\r\n",
    "Qlib[\"Apple\"]=\"green\"\r\n",
    "Qlib[\"Plum\"]=\"purple\"\r\n",
    "Qlib[\"Banana\"]=\"yellow\"\r\n",
    "Qlib[\"Strawberry\"]=\"red\"\r\n",
    "\r\n",
    "def qshuffle():\r\n",
    "    choices = random.sample(list(Qlib),4)\r\n",
    "    random_fruit = random.choice(choices)\r\n",
    "    print(\"Which fruit is of {0} colour??\\n\".format(Qlib[random_fruit]))\r\n",
    "    print('--- Choices: ---\\n' + \"\\n\".join([x for x in Qlib]))\r\n",
    "    answer = input(\"You answer is >> \")\r\n",
    "\r\n",
    "    if answer.capitalize() == random_fruit:\r\n",
    "        print(\"That's right\")\r\n",
    "    else:\r\n",
    "        print(\"Sorry, wrong answer.\")"
   ],
   "outputs": [],
   "metadata": {}
  },
  {
   "cell_type": "code",
   "execution_count": 17,
   "source": [
    "qshuffle()"
   ],
   "outputs": [
    {
     "output_type": "stream",
     "name": "stdout",
     "text": [
      "Which fruit is of green colour??\n",
      "\n",
      "--- Choices: ---\n",
      "Apple\n",
      "Plum\n",
      "Banana\n",
      "Strawberry\n",
      "That's right\n"
     ]
    }
   ],
   "metadata": {}
  },
  {
   "cell_type": "code",
   "execution_count": 19,
   "source": [
    "# import random\r\n",
    "\r\n",
    "# # The quiz data. Keys are states and values are their capitals.\r\n",
    "# capitals = {'Alabama': 'Montgomery', 'Alaska': 'Juneau', 'Arizona': 'Phoenix',\r\n",
    "# 'Arkansas': 'Little Rock', 'California': 'Sacramento', 'Colorado': 'Denver',\r\n",
    "# 'Connecticut': 'Hartford', 'Delaware': 'Dover', 'Florida': 'Tallahassee',\r\n",
    "# 'Georgia': 'Atlanta', 'Hawaii': 'Honolulu', 'Idaho': 'Boise', 'Illinois':\r\n",
    "# 'Springfield', 'Indiana': 'Indianapolis', 'Iowa': 'Des Moines', 'Kansas':\r\n",
    "# 'Topeka', 'Kentucky': 'Frankfort', 'Louisiana': 'Baton Rouge', 'Maine':\r\n",
    "# 'Augusta', 'Maryland': 'Annapolis', 'Massachusetts': 'Boston', 'Michigan':\r\n",
    "# 'Lansing', 'Minnesota': 'Saint Paul', 'Mississippi': 'Jackson', 'Missouri':\r\n",
    "# 'Jefferson City', 'Montana': 'Helena', 'Nebraska': 'Lincoln', 'Nevada':\r\n",
    "# 'Carson City', 'New Hampshire': 'Concord', 'New Jersey': 'Trenton', 'New Mexico': 'Santa Fe',\r\n",
    "# 'New York': 'Albany', 'North Carolina': 'Raleigh',\r\n",
    "# 'North Dakota': 'Bismarck', 'Ohio': 'Columbus', 'Oklahoma': 'Oklahoma City',\r\n",
    "# 'Oregon': 'Salem', 'Pennsylvania': 'Harrisburg', 'Rhode Island': 'Providence',\r\n",
    "# 'South Carolina': 'Columbia', 'South Dakota': 'Pierre', 'Tennessee':\r\n",
    "# 'Nashville', 'Texas': 'Austin', 'Utah': 'Salt Lake City', 'Vermont':\r\n",
    "# 'Montpelier', 'Virginia': 'Richmond', 'Washington': 'Olympia', 'West Virginia': 'Charleston',\r\n",
    "#  'Wisconsin': 'Madison', 'Wyoming': 'Cheyenne'}\r\n",
    "\r\n",
    "# # Generate 35 quiz files.\r\n",
    "\r\n",
    "# for quizNum in range(35):\r\n",
    "# \t# Create the quiz and answer key files.\r\n",
    "# \tquizFile = open('Questions/capitalsquiz%s.txt' % (quizNum+1), 'w')\r\n",
    "# \tanswerKeyFile = open('Answers/capitalsquiz_answers%s.txt' % (quizNum+1), 'w')\r\n",
    "\r\n",
    "# \t# Write out the header for the quiz.\r\n",
    "# \tquizFile.write('Name:\\n\\nDate:\\n\\nPeriod:\\n\\n')\r\n",
    "# \tquizFile.write((' ' * 20) + 'State Capitals Quiz (Form %s)' % (quizNum+1))\r\n",
    "# \tquizFile.write('\\n\\n')\r\n",
    "\r\n",
    "# \t# Shuffle the order of the states.\r\n",
    "# \tstates = list(capitals.keys())\r\n",
    "# \trandom.shuffle(states)\r\n",
    "\r\n",
    "# \t# Loop through all 50 states, making a question for each.\r\n",
    "# \tfor questionNum in range(50):\r\n",
    "# \t\t# Get right and wrong answers.\r\n",
    "# \t\tcorrectAnswer = capitals[states[questionNum]]\r\n",
    "# \t\twrongAnswers = list(capitals.values())\r\n",
    "# \t\tdel wrongAnswers[wrongAnswers.index(correctAnswer)]\r\n",
    "# \t\twrongAnswers = random.sample(wrongAnswers,3)\r\n",
    "# \t\tanswerOptions = wrongAnswers + [correctAnswer]\r\n",
    "# \t\trandom.shuffle(answerOptions)\r\n",
    "\r\n",
    "# \t\t# Write the question and the answer options to the quiz file.\r\n",
    "# \t\tquizFile.write('%s. What is capital of %s?\\n' % (questionNum+1, states[questionNum]))\r\n",
    "\r\n",
    "# \t\tfor i in range(4):\r\n",
    "# \t\t\tquizFile.write('\t%s. %s\\n' % ('ABCD'[i], answerOptions[i]))\r\n",
    "# \t\tquizFile.write('\\n')\r\n",
    "\r\n",
    "# \t\t# Write the answer key to a file.\r\n",
    "# \t\tanswerKeyFile.write('%s. %s\\n' % (questionNum+1, 'ABCD'[answerOptions.index(correctAnswer)]))\r\n",
    "# \tquizFile.close()\r\n",
    "# \tanswerKeyFile.close()"
   ],
   "outputs": [],
   "metadata": {}
  },
  {
   "cell_type": "code",
   "execution_count": null,
   "source": [],
   "outputs": [],
   "metadata": {}
  }
 ],
 "metadata": {
  "colab": {
   "collapsed_sections": [],
   "name": "projet_Entretien.ipynb",
   "provenance": []
  },
  "kernelspec": {
   "name": "python3",
   "display_name": "Python 3.9.6 64-bit ('dum': conda)"
  },
  "language_info": {
   "codemirror_mode": {
    "name": "ipython",
    "version": 3
   },
   "file_extension": ".py",
   "mimetype": "text/x-python",
   "name": "python",
   "nbconvert_exporter": "python",
   "pygments_lexer": "ipython3",
   "version": "3.9.6"
  },
  "interpreter": {
   "hash": "1159e9e074d00cadc814599349c70a561a2fff9a5ccb9e5db9680d29796e42b3"
  }
 },
 "nbformat": 4,
 "nbformat_minor": 1
}