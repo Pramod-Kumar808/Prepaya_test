{
 "cells": [
  {
   "cell_type": "markdown",
   "metadata": {
    "id": "aI7mBtY3kAY4"
   },
   "source": [
    "## TP entretien"
   ]
  },
  {
   "cell_type": "markdown",
   "metadata": {
    "id": "Ygci6hOrkAY_"
   },
   "source": [
    "But du TP: \n",
    "\n",
    "L'idée est de générer de maniere automatique des questionnaires de type fonction publique.\n",
    "Une question est a choix multiples selon des themes plus ou moins compliqués.  \n",
    "Elle se compose d'un ennoncé et de 4 réponses dont une seule est correcte. \n",
    "\n",
    "Voici un exemple de question"
   ]
  },
  {
   "cell_type": "markdown",
   "metadata": {
    "id": "NU7fDpU3kAZB"
   },
   "source": [
    "Un pianiste professionnel joue en moyenne 500 notes par minute. Il joue 6 heures par jour en\n",
    "moyenne et 350 jours par an. Sur cette base, après 40 ans de profession, combien de notes\n",
    "environ a-t-il joué ?\n",
    "  1. 2,5 millions\n",
    "  2. 25 millions\n",
    "  3. 250 millions\n",
    "  4. 2,5 milliards"
   ]
  },
  {
   "cell_type": "markdown",
   "metadata": {
    "id": "Ffk7N1bNkAZD"
   },
   "source": [
    "###### Ici, \n",
    "il s'agit d'une seule instance d'une question, dont le but est de voir si l'eleve sait multiplier correctement.\n",
    "\n",
    "Le calcul a faire est \"500*60*6*350*40\", ce qui donne 2.5 milliards\n",
    "\n",
    "On voit que toutes les réponses sont cohérentes, c'est l'ordre de grandeur qui va changer, tous les ordres de grandeurs sont proches les uns des autres. Et les chiffres sont ronds. \n",
    "\n",
    "On veut donc faire une fonction \"Question_pianiste\" qui permettrait de générer des dizaines (centaines ?) de question de ce genre de maniere aleatoire. La premiere réponse sera arbitrairement la bonne, les autres seront fausses.\n",
    "\n",
    "- Toutes les réponses devront etre différentes  \n",
    "- Il faut que toutes les réponses soient plausibles\n",
    "- Il faut également que les réponses soient entieres (pas de 2.6575 milliards)\n",
    "\n"
   ]
  },
  {
   "cell_type": "markdown",
   "metadata": {
    "id": "HAJvDFYXkAZE"
   },
   "source": [
    "J'ai donné un example tres simple de questions que j'ai implémenté (pas forcément parfait)"
   ]
  },
  {
   "cell_type": "code",
   "execution_count": 24,
   "metadata": {
    "id": "I8EWSjYvkAZG"
   },
   "outputs": [],
   "source": [
    "import numpy as np\n",
    "import random \n",
    "from fractions import Fraction"
   ]
  },
  {
   "cell_type": "code",
   "execution_count": 21,
   "metadata": {
    "id": "uWHcNoVRkAZI"
   },
   "outputs": [],
   "source": [
    "def Question_calcul_puissances(): \n",
    "    nombre = random.choice((2, 3))\n",
    "    liste_puissance = [-3, -4, -5, -6]\n",
    "    puissance = random.choice(liste_puissance)\n",
    "\n",
    "    reponse_juste = Fraction(1, nombre ** (-puissance))\n",
    "    reponse_fausse1 = -(nombre ** (-puissance))\n",
    "    reponse_fausse2 = -(nombre * (-puissance))\n",
    "    reponse_fausse3 = Fraction(1, nombre * (-puissance))\n",
    "    question = \"\"\"{} ** {} est égal à:\"\"\".format(nombre, puissance)\n",
    "\n",
    "    return (question, reponse_juste, reponse_fausse1, reponse_fausse2, reponse_fausse3)"
   ]
  },
  {
   "cell_type": "code",
   "execution_count": 28,
   "metadata": {
    "id": "aj9PC1q5kAZJ",
    "outputId": "769fdda8-60aa-42fc-b173-6fe50b2b16d7"
   },
   "outputs": [
    {
     "name": "stdout",
     "output_type": "stream",
     "text": [
      "2 ** -5 est égal à:\n",
      "1/32\n",
      "-32\n",
      "-10\n",
      "1/10\n"
     ]
    }
   ],
   "source": [
    "question, rep0, rep1, rep2, rep3 = Question_calcul_puissances()\n",
    "print(question)\n",
    "print(rep0)\n",
    "print(rep1)\n",
    "print(rep2)\n",
    "print(rep3)"
   ]
  },
  {
   "cell_type": "markdown",
   "metadata": {
    "id": "bMjA4IXzkAZN"
   },
   "source": [
    "Voici la liste des questions a générer"
   ]
  },
  {
   "cell_type": "markdown",
   "metadata": {
    "id": "GqyF9D5WkAZO"
   },
   "source": [
    "Q 40\n",
    "\n",
    "Un pianiste professionnel joue en moyenne 500 notes par minute. Il joue 6 heures par jour en\n",
    "moyenne et 350 jours par an. Sur cette base, après 40 ans de profession, combien de notes\n",
    "environ a-t-il joué ?\n",
    "  1. 2,5 millions\n",
    "  2. 25 millions\n",
    "  3. 250 millions\n",
    "  4. 2,5 milliards"
   ]
  },
  {
   "cell_type": "markdown",
   "metadata": {
    "id": "D782bTGQkAZP"
   },
   "source": [
    "Q 36\n",
    "Un bois est composé de 4/9 de noisetiers, de 1/6 de chênes et de 63 hêtres. Combien d’arbres\n",
    "composent ce bois ?\n",
    "1. 141\n",
    "2. 153\n",
    "3. 162\n",
    "4. 178"
   ]
  },
  {
   "cell_type": "markdown",
   "metadata": {
    "id": "Dbyt-Ax_kAZQ"
   },
   "source": [
    "Q 31\n",
    "Un restaurateur propose uniquement deux formules pour le déjeuner : « une entrée et un\n",
    "plat » ou « un plat et un dessert ». Le client peut choisir parmi quatre entrées, cinq plats et\n",
    "trois desserts. Combien de possibilités différentes de déjeuners s’offrent au client ?\n",
    "1. 12\n",
    "2. 20\n",
    "3. 23--------\n",
    "4. 35"
   ]
  },
  {
   "cell_type": "markdown",
   "metadata": {
    "id": "zN-zTm7-kAZR"
   },
   "source": [
    "Q 32\n",
    "Complétez la phrase suivante : « La somme des valeurs d'une série contenant n valeurs est\n",
    "égale à n fois ...................... de cette série ».\n",
    "1. l'écart type\n",
    "2. l'étendue\n",
    "3. la médiane\n",
    "4. la moyenne"
   ]
  },
  {
   "cell_type": "markdown",
   "metadata": {
    "id": "tGEJM_ZbkAZS"
   },
   "source": [
    "#### A FAIRE"
   ]
  },
  {
   "cell_type": "code",
   "execution_count": 148,
   "metadata": {
    "id": "E610I6ibkAZT"
   },
   "outputs": [],
   "source": [
    "from random import choice\n",
    "def question_31():\n",
    "    d = {\n",
    "        \"un\": 1,\n",
    "        \"deux\": 2,\n",
    "        \"trois\": 3,\n",
    "        \"quatre\": 4,\n",
    "        \"cinq\": 5\n",
    "    }\n",
    "    nombres=[\"un\",\"deux\",\"trois\",\"quatre\",\"cinq\"]\n",
    "    \n",
    "    nb_entree=choice(nombres)\n",
    "    nombres.remove(nb_entree)\n",
    "\n",
    "    nb_plat=choice(nombres)\n",
    "    nombres.remove(nb_plat)\n",
    "\n",
    "    nb_dessert=choice(nombres)\n",
    "    nombres.remove(nb_dessert)\n",
    "\n",
    "    add_s = lambda x : 's' if x > 1 else ''  \n",
    "\n",
    "    question= \"\"\"Un restaurateur propose uniquement deux formules pour le déjeuner : « une entrée et un\n",
    "plat » ou « un plat et un dessert ». Le client peut choisir parmi {} entrée{}, {} plat{} et\n",
    "{} dessert{}. Combien de possibilités différentes de déjeuners s’offrent au client ?\"\"\".format(nb_entree, add_s(d[nb_entree]), nb_plat, add_s(d[nb_plat]), nb_dessert, add_s(d[nb_dessert]))\n",
    "\n",
    "\n",
    "    nb_entree = d[nb_entree]\n",
    "    nb_plat = d[nb_plat]\n",
    "    nb_dessert = d[nb_dessert]\n",
    "\n",
    "\n",
    "    reponse_juste = nb_entree * nb_plat + nb_dessert * nb_plat\n",
    "    reponse_fausse1 =  nb_entree * nb_plat \n",
    "    reponse_fausse2 = nb_dessert * nb_plat\n",
    "    reponse_fausse3 = nb_dessert*nb_entree + nb_plat\n",
    "    return (question, reponse_juste, reponse_fausse1, reponse_fausse2, reponse_fausse3)"
   ]
  },
  {
   "cell_type": "code",
   "execution_count": 149,
   "metadata": {
    "id": "ZuKnW6CokAZU"
   },
   "outputs": [],
   "source": [
    "from random import choice\n",
    "from fractions import Fraction \n",
    "def question_36():\n",
    "    denom1 = choice(range(10, 25))\n",
    "    denom2 = choice(range(10, 25))\n",
    "    num1 =   choice(range(1, 5))\n",
    "    num2 = choice(range(1, 5))\n",
    "    nhetres = choice(range(50, 101))\n",
    "    f1 = Fraction(num1, denom1)\n",
    "    f2 = Fraction(num2, denom2)\n",
    "    \n",
    "    question = \"Un bois est composé de {} de noisetiers, de {} de chênes et de {} hêtres. Combien d’arbres composent ce bois ?\".format(f1, f2, nhetres)\n",
    "    \n",
    "    reponse_juste = -nhetres // (f1 + f2 -1)\n",
    "    reponse_fausse1 = reponse_juste + 10\n",
    "    reponse_fausse2 = reponse_juste - choice(range(1, 10))\n",
    "    reponse_fausse3 = reponse_juste - choice(range(10, 21))\n",
    "\n",
    "    return question, reponse_juste, reponse_fausse1, reponse_fausse2, reponse_fausse3"
   ]
  },
  {
   "cell_type": "code",
   "execution_count": 150,
   "metadata": {
    "id": "OjKhJosJkAZU"
   },
   "outputs": [],
   "source": [
    "from random import choice\n",
    "def question_32():\n",
    "    liste=[\" « La somme des valeurs d'une série contenant n valeurs est égale à n fois .................... de cette série ».\",\"« Si on ordonne une distribution,........... partage cette distribution en deux parties d’effectifs égaux ».\",\"«............. sert à mesurer la dispersion, ou l'étalement, d'un ensemble de valeurs autour de leur moyenne ».\",\"«.............  est la différence entre la plus grande et la plus petite valeur de la série statistique ».\"]\n",
    "    question1=choice(liste)\n",
    "    if question1==liste[0]:\n",
    "            reponse_juste=\"la moyenne\"\n",
    "            reponse_fausse1=\"la mediane\"\n",
    "            reponse_fausse2=\"l'etendue\"\n",
    "            reponse_fausse3=\"l'ecart type\"\n",
    "    elif question1==liste[1]:\n",
    "            reponse_juste=\"la mediane\"\n",
    "            reponse_fausse1=\"la moyenne\"\n",
    "            reponse_fausse2=\"l'ecart type\"\n",
    "            reponse_fausse3=\"l'etendue\"\n",
    "    elif question1==liste[2]:\n",
    "            reponse_juste=\"l'ecart type\"\n",
    "            reponse_fausse1=\"l'etendue\"\n",
    "            reponse_fausse2=\"la moyenne\"\n",
    "            reponse_fausse3=\"l'ecart type\"\n",
    "    else :               \n",
    "        reponse_juste=\"l'etendue\"\n",
    "        reponse_fausse1=\"l'ecart type\" \n",
    "        reponse_fausse2=\"la mediane\"\n",
    "        reponse_fausse3=\"la moyenne\"\n",
    "\n",
    "    question=\"Complétez la phrase suivante : {} \".format(question1)\n",
    "    return question, reponse_juste, reponse_fausse1, reponse_fausse2, reponse_fausse3"
   ]
  },
  {
   "cell_type": "code",
   "execution_count": 151,
   "metadata": {
    "id": "9Bsc5rYBkAZV"
   },
   "outputs": [],
   "source": [
    "from random import *\n",
    "import math\n",
    "def question_40():\n",
    "    note=randint(300,600)\n",
    "    nb_heure=randint(1,10)\n",
    "    nb_jour=randint(250,360)\n",
    "    an_profession=randint(30,60)\n",
    "    calcul=note*nb_heure*60*nb_jour*an_profession\n",
    "    \n",
    "    if calcul >= 1000000000:\n",
    "      val = round(calcul / 1000000000, 1) * 1000000000\n",
    "      reponse_juste= str(round(calcul / 1000000000, 1)) + \" milliards\"\n",
    "      reponse_fausse1 = str(val / (1000000 * 10)) + \" millions\"\n",
    "      reponse_fausse2 =  str(val / (1000000 * 100))  + \" millions\"\n",
    "      reponse_fausse3 =  str(val / (1000000 * 1000))  + \" millions\"\n",
    "    else:\n",
    "      v = calcul // 1000000\n",
    "      x = round(v / 100, 1)\n",
    "      reponse_juste= str(round(x * 100.0, 0)) + \" millions\"\n",
    "      val =  round((v) / 100, 1)\n",
    "      reponse_fausse1 = str(round((v * 1000000 * 10) / 1000000000, 1)) + \" milliards\"\n",
    "      reponse_fausse2 = str(val * 10) + \" millions\"\n",
    "      reponse_fausse3 = str(val)  + \" millions\"\n",
    "    question = \"\"\" Un pianiste professionnel joue en moyenne {} notes par minute. Il joue {} heures par jour en\n",
    "moyenne et {} jours par an. Sur cette base, après {} ans de profession, combien de notes\n",
    "environ a-t-il joué ?\"\"\".format(note,nb_heure,nb_jour,an_profession)\n",
    "    \n",
    "    return (question,reponse_juste,reponse_fausse1,reponse_fausse2,reponse_fausse3)"
   ]
  },
  {
   "cell_type": "code",
   "execution_count": 152,
   "metadata": {
    "colab": {
     "base_uri": "https://localhost:8080/"
    },
    "id": "ORLyItoUkAZW",
    "outputId": "20003b3e-3fae-4824-f9c8-22ade5d6ad55"
   },
   "outputs": [
    {
     "name": "stdout",
     "output_type": "stream",
     "text": [
      " Un pianiste professionnel joue en moyenne 432 notes par minute. Il joue 4 heures par jour en\n",
      "moyenne et 257 jours par an. Sur cette base, après 43 ans de profession, combien de notes\n",
      "environ a-t-il joué ?\n",
      " \n",
      "1.  1.1 milliards\n",
      "2.  110.0 millions\n",
      "3.  11.0 millions\n",
      "4.  1.1 millions\n"
     ]
    }
   ],
   "source": [
    "question, rep0, rep1, rep2, rep3 = question_40()\n",
    "print(question)\n",
    "print(\" \")\n",
    "print(\"{}.  {}\".format(1, rep0))\n",
    "print(\"{}.  {}\".format(2, rep1))\n",
    "print(\"{}.  {}\".format(3, rep2))\n",
    "print(\"{}.  {}\".format(4, rep3))"
   ]
  },
  {
   "cell_type": "code",
   "execution_count": 222,
   "metadata": {
    "id": "q1gqznzGsSTw"
   },
   "outputs": [
    {
     "name": "stdout",
     "output_type": "stream",
     "text": [
      "Un bois est composé de 2/17 de noisetiers, de 3/13 de chênes et de 87 hêtres. Combien d’arbres composent ce bois ?\n",
      " \n",
      "1.  133\n",
      "2.  143\n",
      "3.  126\n",
      "4.  119\n"
     ]
    }
   ],
   "source": [
    "question, rj, rf1, rf2, rf3 = question_36()\n",
    "print(question)\n",
    "print(\" \")\n",
    "print(\"{}.  {}\".format(1, rj))\n",
    "print(\"{}.  {}\".format(2, rf1))\n",
    "print(\"{}.  {}\".format(3, rf2))\n",
    "print(\"{}.  {}\".format(4, rf3))"
   ]
  },
  {
   "cell_type": "code",
   "execution_count": 138,
   "metadata": {
    "id": "Rs5NYt1YkAZX",
    "outputId": "23603ac9-b2b9-4244-9a7e-ca509adc7481"
   },
   "outputs": [
    {
     "name": "stdout",
     "output_type": "stream",
     "text": [
      "Un restaurateur propose uniquement deux formules pour le déjeuner : « une entrée et un\n",
      "plat » ou « un plat et un dessert ». Le client peut choisir parmi quatre entrées, un plat et\n",
      "deux desserts. Combien de possibilités différentes de déjeuners s’offrent au client ?\n",
      " \n",
      "1.  6\n",
      "2.  4\n",
      "3.  2\n",
      "4.  9\n"
     ]
    }
   ],
   "source": [
    "question, rj, rf1, rf2, rf3 = question_31()\n",
    "print(question)\n",
    "print(\" \")\n",
    "print(\"{}.  {}\".format(1, rj))\n",
    "print(\"{}.  {}\".format(2, rf1))\n",
    "print(\"{}.  {}\".format(3, rf2))\n",
    "print(\"{}.  {}\".format(4, rf3))"
   ]
  },
  {
   "cell_type": "code",
   "execution_count": 139,
   "metadata": {
    "id": "Y8h2jW6YkAZX"
   },
   "outputs": [
    {
     "name": "stdout",
     "output_type": "stream",
     "text": [
      "Complétez la phrase suivante : « Si on ordonne une distribution,........... partage cette distribution en deux parties d’effectifs égaux ». \n",
      " \n",
      "1.  la mediane\n",
      "2.  la moyenne\n",
      "3.  l'ecart type\n",
      "4.  l'etendue\n"
     ]
    }
   ],
   "source": [
    "question, rep0, rep1, rep2, rep3 = question_32()\n",
    "print(question)\n",
    "print(\" \")\n",
    "print(\"{}.  {}\".format(1, rep0))\n",
    "print(\"{}.  {}\".format(2, rep1))\n",
    "print(\"{}.  {}\".format(3, rep2))\n",
    "print(\"{}.  {}\".format(4, rep3))"
   ]
  },
  {
   "cell_type": "markdown",
   "metadata": {
    "id": "duZAFG0akAZY"
   },
   "source": []
  }
 ],
 "metadata": {
  "colab": {
   "collapsed_sections": [],
   "name": "projet_Entretien.ipynb",
   "provenance": []
  },
  "kernelspec": {
   "display_name": "Python 3",
   "language": "python",
   "name": "python3"
  },
  "language_info": {
   "codemirror_mode": {
    "name": "ipython",
    "version": 3
   },
   "file_extension": ".py",
   "mimetype": "text/x-python",
   "name": "python",
   "nbconvert_exporter": "python",
   "pygments_lexer": "ipython3",
   "version": "3.8.5"
  }
 },
 "nbformat": 4,
 "nbformat_minor": 1
}
